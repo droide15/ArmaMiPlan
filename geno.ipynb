{
 "cells": [
  {
   "cell_type": "code",
   "execution_count": 1,
   "metadata": {},
   "outputs": [],
   "source": [
    "from math import gcd\n",
    "import random as rand\n",
    "\n",
    "def findLCM(divisors):\n",
    "    lcm = divisors[0]\n",
    "    for i in divisors[1:]:\n",
    "        lcm = int(lcm*i/gcd(lcm, i))\n",
    "    return lcm"
   ]
  },
  {
   "cell_type": "code",
   "execution_count": 2,
   "metadata": {},
   "outputs": [],
   "source": [
    "class Course:\n",
    "    def __init__(self, Credits, Required, numSched, preReq):\n",
    "        self.Credits = Credits\n",
    "        self.Required = Required\n",
    "        self.numSched = numSched\n",
    "        self.preReq = preReq"
   ]
  },
  {
   "cell_type": "code",
   "execution_count": 3,
   "metadata": {},
   "outputs": [
    {
     "name": "stdout",
     "output_type": "stream",
     "text": [
      "number of semesters is: 3\n",
      "required credits are: 50\n",
      "required courses are: [True, False, True, False, False, True, False, False, True]\n"
     ]
    }
   ],
   "source": [
    "numSem = 3\n",
    "print('number of semesters is:', numSem)\n",
    "reqCred = 50\n",
    "print('required credits are:', reqCred)\n",
    "reqCourses = [rand.randint(0, 1)>0 for r in range(9)]\n",
    "print('required courses are:', reqCourses)\n",
    "allCourses = {}\n",
    "allCourses['math'] = Course(7, reqCourses[0], 2, \"\")\n",
    "allCourses['phis'] = Course(8, reqCourses[1], 3, \"math\")\n",
    "allCourses['chem'] = Course(10, reqCourses[2], 5, \"phis\")\n",
    "allCourses['comp'] = Course(8, reqCourses[3], 4, \"stat\")\n",
    "allCourses['geog'] = Course(9, reqCourses[4], 1, \"\")\n",
    "allCourses['lang'] = Course(7, reqCourses[5], 4, \"\")\n",
    "allCourses['prot'] = Course(10, reqCourses[6], 1, \"\")\n",
    "allCourses['stat'] = Course(9, reqCourses[7], 2, \"\")\n",
    "allCourses['elec'] = Course(8, reqCourses[8], 3, \"math\")"
   ]
  },
  {
   "cell_type": "code",
   "execution_count": 4,
   "metadata": {},
   "outputs": [
    {
     "name": "stdout",
     "output_type": "stream",
     "text": [
      "lcm of [2, 3, 5, 4, 1] is: 60\n",
      "maximum possible credits are: 76\n",
      "genotype size is: 180\n",
      "invalid values are: 94\n"
     ]
    }
   ],
   "source": [
    "divisors = []\n",
    "maxCred = 0\n",
    "reqCour = 0\n",
    "for course in allCourses.values():\n",
    "    if course.numSched not in divisors:\n",
    "        divisors.append(course.numSched)\n",
    "    maxCred += course.Credits\n",
    "    if course.Required:\n",
    "        reqCour += 1\n",
    "lcm = findLCM(divisors)\n",
    "print('lcm of', divisors, 'is:', lcm)\n",
    "print('maximum possible credits are:', maxCred)\n",
    "genSize = numSem*lcm\n",
    "print('genotype size is:', genSize)\n",
    "invalidValues = round(maxCred*genSize/reqCred-genSize)\n",
    "print('invalid values are:', invalidValues)"
   ]
  },
  {
   "cell_type": "code",
   "execution_count": 5,
   "metadata": {},
   "outputs": [
    {
     "name": "stdout",
     "output_type": "stream",
     "text": [
      "genes are: [78, 268, 109, 128, 92, 196, 54, 143, 262]\n"
     ]
    }
   ],
   "source": [
    "genes = [rand.randint(0, genSize+invalidValues-1) for r in range(len(allCourses))]\n",
    "print('genes are:', genes)"
   ]
  },
  {
   "cell_type": "code",
   "execution_count": 6,
   "metadata": {},
   "outputs": [
    {
     "name": "stdout",
     "output_type": "stream",
     "text": [
      "course is: math\n",
      "semester is: 1\n",
      "residual is: 18\n",
      "schedule is: 0\n",
      "credits are: 7\n",
      "-----------------------\n",
      "course is: phis\n",
      "phis is not taken\n",
      "-----------------------\n",
      "course is: chem\n",
      "semester is: 1\n",
      "residual is: 49\n",
      "schedule is: 4\n",
      "credits are: 10\n",
      "-----------------------\n",
      "course is: comp\n",
      "semester is: 2\n",
      "residual is: 8\n",
      "schedule is: 0\n",
      "credits are: 8\n",
      "-----------------------\n",
      "course is: geog\n",
      "semester is: 1\n",
      "residual is: 32\n",
      "schedule is: 0\n",
      "credits are: 9\n",
      "-----------------------\n",
      "course is: lang\n",
      "lang is not taken\n",
      "-----------------------\n",
      "course is: prot\n",
      "semester is: 0\n",
      "residual is: 54\n",
      "schedule is: 0\n",
      "credits are: 10\n",
      "-----------------------\n",
      "course is: stat\n",
      "semester is: 2\n",
      "residual is: 23\n",
      "schedule is: 1\n",
      "credits are: 9\n",
      "-----------------------\n",
      "course is: elec\n",
      "elec is not taken\n",
      "-----------------------\n"
     ]
    }
   ],
   "source": [
    "credCount = 0\n",
    "missCount = 0\n",
    "reqPen = 0\n",
    "for courseInd in range(len(allCourses)):\n",
    "    course = list(allCourses.keys())[courseInd]\n",
    "    print('course is:', course)\n",
    "    if genes[courseInd] < genSize:\n",
    "        phenSem, phenSche = divmod(genes[courseInd], 60)\n",
    "        print('semester is:', phenSem)\n",
    "        print('residual is:', phenSche)\n",
    "        preCourse = allCourses[course].preReq\n",
    "        if preCourse != \"\":\n",
    "            courseTmpInd = list(allCourses.keys()).index(preCourse)\n",
    "            courseTmp = preCourse\n",
    "            if genes[courseTmpInd] < genSize:\n",
    "                phenTmpSem, phenTmpSche = divmod(genes[courseTmpInd], 60)\n",
    "                reqPen += 2*abs(phenSem-phenTmpSem-1) - (phenSem-phenTmpSem-1)\n",
    "            else:\n",
    "                reqPen += numSem * 5\n",
    "        phenSche %= allCourses[course].numSched\n",
    "        print('schedule is:', phenSche)\n",
    "        print('credits are:', allCourses[course].Credits)\n",
    "        credCount += allCourses[course].Credits\n",
    "    else:\n",
    "        print(course, 'is not taken')\n",
    "        if allCourses[course].Required:\n",
    "            missCount += 1\n",
    "    print('-----------------------')"
   ]
  },
  {
   "cell_type": "code",
   "execution_count": 7,
   "metadata": {},
   "outputs": [
    {
     "name": "stdout",
     "output_type": "stream",
     "text": [
      "sum of credits is: 53\n",
      "penalty for sum of credits is: 3\n",
      "missed courses are: 2\n",
      "penalty for missed courses is: 58\n",
      "penalty for wrong sequence is: 18\n"
     ]
    }
   ],
   "source": [
    "print('sum of credits is:', credCount)\n",
    "credShort = reqCred - credCount\n",
    "credPen = 2*abs(credShort) + credShort\n",
    "print('penalty for sum of credits is:', credPen)\n",
    "print('missed courses are:', missCount)\n",
    "missPen = round(missCount/reqCour*100) + 4*missCount\n",
    "print('penalty for missed courses is:', missPen)\n",
    "print('penalty for wrong sequence is:', reqPen)"
   ]
  },
  {
   "cell_type": "code",
   "execution_count": null,
   "metadata": {},
   "outputs": [],
   "source": []
  }
 ],
 "metadata": {
  "kernelspec": {
   "display_name": "Python 3",
   "language": "python",
   "name": "python3"
  },
  "language_info": {
   "codemirror_mode": {
    "name": "ipython",
    "version": 3
   },
   "file_extension": ".py",
   "mimetype": "text/x-python",
   "name": "python",
   "nbconvert_exporter": "python",
   "pygments_lexer": "ipython3",
   "version": "3.7.2"
  }
 },
 "nbformat": 4,
 "nbformat_minor": 2
}
